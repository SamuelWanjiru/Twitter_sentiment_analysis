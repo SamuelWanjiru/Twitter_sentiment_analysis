{
  "nbformat": 4,
  "nbformat_minor": 0,
  "metadata": {
    "colab": {
      "provenance": [],
      "authorship_tag": "ABX9TyM1z5Kryvrk35GZ/gS8vfil",
      "include_colab_link": true
    },
    "kernelspec": {
      "name": "python3",
      "display_name": "Python 3"
    },
    "language_info": {
      "name": "python"
    }
  },
  "cells": [
    {
      "cell_type": "markdown",
      "metadata": {
        "id": "view-in-github",
        "colab_type": "text"
      },
      "source": [
        "<a href=\"https://colab.research.google.com/github/SamuelWanjiru/Twitter_sentiment_analysis/blob/main/TWITTER_SENTIMENT_ANALYSIS.ipynb\" target=\"_parent\"><img src=\"https://colab.research.google.com/assets/colab-badge.svg\" alt=\"Open In Colab\"/></a>"
      ]
    },
    {
      "cell_type": "markdown",
      "source": [
        "# **<font color='red'>🎯 TWITTER SENTIMENT ANALYSIS ~ HATE SPEECH RECOGNITION 😊🤬**"
      ],
      "metadata": {
        "id": "HMGyPo5dmFmL"
      }
    },
    {
      "cell_type": "markdown",
      "source": [
        "## **Connecting/mounting the google drive**"
      ],
      "metadata": {
        "id": "kRkqx1Uvni1e"
      }
    },
    {
      "cell_type": "code",
      "source": [
        "from google.colab import drive \n",
        "drive.mount('/content/gdrive')"
      ],
      "metadata": {
        "colab": {
          "base_uri": "https://localhost:8080/"
        },
        "id": "AY7ylK-LniAt",
        "outputId": "407369d4-6a28-4a58-d611-1d5f20d33d6e"
      },
      "execution_count": 3,
      "outputs": [
        {
          "output_type": "stream",
          "name": "stdout",
          "text": [
            "Drive already mounted at /content/gdrive; to attempt to forcibly remount, call drive.mount(\"/content/gdrive\", force_remount=True).\n"
          ]
        }
      ]
    },
    {
      "cell_type": "markdown",
      "source": [
        "### **IMPORTING NECESSARY LIBRARIES**"
      ],
      "metadata": {
        "id": "SfRfW7LPmVWb"
      }
    },
    {
      "cell_type": "code",
      "source": [
        "import pandas as pd\n",
        "import numpy as np\n",
        "import matplotlib.pyplot as plt\n",
        "\n",
        "from sklearn import model_selection, preprocessing, linear_model, metrics\n",
        "from sklearn.feature_extraction.text import TfidfVectorizer, CountVectorizer\n",
        "from sklearn import ensemble\n",
        "from lightgbm import LGBMClassifier\n",
        "from sklearn.metrics import roc_auc_score, roc_curve\n",
        "from xgboost import XGBClassifier\n",
        "\n",
        "\n",
        "import nltk\n",
        "nltk.download('stopwords')\n",
        "nltk.download('omw-1.4')\n",
        "from nltk.corpus import stopwords\n",
        "from textblob import Word\n",
        "nltk.download('wordnet')\n",
        "\n",
        "from termcolor import colored\n",
        "from warnings import filterwarnings\n",
        "filterwarnings('ignore')\n",
        "\n",
        "from sklearn import set_config\n",
        "set_config(print_changed_only = False)\n",
        "\n",
        "print(colored(\"\\nLIBRARIES WERE SUCCESFULLY IMPORTED...\", color = \"green\", attrs = [\"dark\", \"bold\"]))"
      ],
      "metadata": {
        "colab": {
          "base_uri": "https://localhost:8080/"
        },
        "id": "5Nf08U6Dmp4Z",
        "outputId": "545312b8-827d-4c8c-dec7-7b6970b04300"
      },
      "execution_count": 4,
      "outputs": [
        {
          "output_type": "stream",
          "name": "stderr",
          "text": [
            "[nltk_data] Downloading package stopwords to /root/nltk_data...\n",
            "[nltk_data]   Package stopwords is already up-to-date!\n",
            "[nltk_data] Downloading package omw-1.4 to /root/nltk_data...\n",
            "[nltk_data]   Package omw-1.4 is already up-to-date!"
          ]
        },
        {
          "output_type": "stream",
          "name": "stdout",
          "text": [
            "\n",
            "LIBRARIES WERE SUCCESFULLY IMPORTED...\n"
          ]
        },
        {
          "output_type": "stream",
          "name": "stderr",
          "text": [
            "\n",
            "[nltk_data] Downloading package wordnet to /root/nltk_data...\n",
            "[nltk_data]   Package wordnet is already up-to-date!\n"
          ]
        }
      ]
    },
    {
      "cell_type": "markdown",
      "source": [
        "### **Loading the dataset from google drive**"
      ],
      "metadata": {
        "id": "gMjdlHSZncZA"
      }
    },
    {
      "cell_type": "code",
      "source": [
        "train_set = pd.read_csv(r\"/content/gdrive/My Drive/KAGGLE PROJECTS/Twitter Sentiment Analysis/Data/train.csv\",\n",
        "                   encoding = \"utf-8\",\n",
        "                   engine = \"python\",\n",
        "                   header = 0)\n",
        "\n",
        "test_set = pd.read_csv(r\"/content/gdrive/My Drive/KAGGLE PROJECTS/Twitter Sentiment Analysis/Data/test.csv\",\n",
        "                   encoding = \"utf-8\",\n",
        "                   engine = \"python\",\n",
        "                   header = 0)"
      ],
      "metadata": {
        "id": "_cK7Jb_nnwEn"
      },
      "execution_count": 5,
      "outputs": []
    },
    {
      "cell_type": "markdown",
      "source": [
        "**The first five rows of train set**"
      ],
      "metadata": {
        "id": "hY2e0BcwpGhM"
      }
    },
    {
      "cell_type": "code",
      "source": [
        "train_set.head(n = 5).style.background_gradient(cmap = \"Oranges\")"
      ],
      "metadata": {
        "colab": {
          "base_uri": "https://localhost:8080/",
          "height": 223
        },
        "id": "u4KNEyx9ov_A",
        "outputId": "8fc28e77-7be8-4c62-b8a8-7cfbd4c03129"
      },
      "execution_count": 6,
      "outputs": [
        {
          "output_type": "execute_result",
          "data": {
            "text/plain": [
              "<pandas.io.formats.style.Styler at 0x7faba1a4fb80>"
            ],
            "text/html": [
              "<style type=\"text/css\">\n",
              "#T_ec739_row0_col0, #T_ec739_row0_col1, #T_ec739_row1_col1, #T_ec739_row2_col1, #T_ec739_row3_col1, #T_ec739_row4_col1 {\n",
              "  background-color: #fff5eb;\n",
              "  color: #000000;\n",
              "}\n",
              "#T_ec739_row1_col0 {\n",
              "  background-color: #fdd0a2;\n",
              "  color: #000000;\n",
              "}\n",
              "#T_ec739_row2_col0 {\n",
              "  background-color: #fd8c3b;\n",
              "  color: #f1f1f1;\n",
              "}\n",
              "#T_ec739_row3_col0 {\n",
              "  background-color: #d84801;\n",
              "  color: #f1f1f1;\n",
              "}\n",
              "#T_ec739_row4_col0 {\n",
              "  background-color: #7f2704;\n",
              "  color: #f1f1f1;\n",
              "}\n",
              "</style>\n",
              "<table id=\"T_ec739_\" class=\"dataframe\">\n",
              "  <thead>\n",
              "    <tr>\n",
              "      <th class=\"blank level0\" >&nbsp;</th>\n",
              "      <th class=\"col_heading level0 col0\" >id</th>\n",
              "      <th class=\"col_heading level0 col1\" >label</th>\n",
              "      <th class=\"col_heading level0 col2\" >tweet</th>\n",
              "    </tr>\n",
              "  </thead>\n",
              "  <tbody>\n",
              "    <tr>\n",
              "      <th id=\"T_ec739_level0_row0\" class=\"row_heading level0 row0\" >0</th>\n",
              "      <td id=\"T_ec739_row0_col0\" class=\"data row0 col0\" >1</td>\n",
              "      <td id=\"T_ec739_row0_col1\" class=\"data row0 col1\" >0</td>\n",
              "      <td id=\"T_ec739_row0_col2\" class=\"data row0 col2\" > @user when a father is dysfunctional and is so selfish he drags his kids into his dysfunction.   #run</td>\n",
              "    </tr>\n",
              "    <tr>\n",
              "      <th id=\"T_ec739_level0_row1\" class=\"row_heading level0 row1\" >1</th>\n",
              "      <td id=\"T_ec739_row1_col0\" class=\"data row1 col0\" >2</td>\n",
              "      <td id=\"T_ec739_row1_col1\" class=\"data row1 col1\" >0</td>\n",
              "      <td id=\"T_ec739_row1_col2\" class=\"data row1 col2\" >@user @user thanks for #lyft credit i can't use cause they don't offer wheelchair vans in pdx.    #disapointed #getthanked</td>\n",
              "    </tr>\n",
              "    <tr>\n",
              "      <th id=\"T_ec739_level0_row2\" class=\"row_heading level0 row2\" >2</th>\n",
              "      <td id=\"T_ec739_row2_col0\" class=\"data row2 col0\" >3</td>\n",
              "      <td id=\"T_ec739_row2_col1\" class=\"data row2 col1\" >0</td>\n",
              "      <td id=\"T_ec739_row2_col2\" class=\"data row2 col2\" >  bihday your majesty</td>\n",
              "    </tr>\n",
              "    <tr>\n",
              "      <th id=\"T_ec739_level0_row3\" class=\"row_heading level0 row3\" >3</th>\n",
              "      <td id=\"T_ec739_row3_col0\" class=\"data row3 col0\" >4</td>\n",
              "      <td id=\"T_ec739_row3_col1\" class=\"data row3 col1\" >0</td>\n",
              "      <td id=\"T_ec739_row3_col2\" class=\"data row3 col2\" >#model   i love u take with u all the time in urð±!!! ððððð¦ð¦ð¦  </td>\n",
              "    </tr>\n",
              "    <tr>\n",
              "      <th id=\"T_ec739_level0_row4\" class=\"row_heading level0 row4\" >4</th>\n",
              "      <td id=\"T_ec739_row4_col0\" class=\"data row4 col0\" >5</td>\n",
              "      <td id=\"T_ec739_row4_col1\" class=\"data row4 col1\" >0</td>\n",
              "      <td id=\"T_ec739_row4_col2\" class=\"data row4 col2\" > factsguide: society now    #motivation</td>\n",
              "    </tr>\n",
              "  </tbody>\n",
              "</table>\n"
            ]
          },
          "metadata": {},
          "execution_count": 6
        }
      ]
    },
    {
      "cell_type": "markdown",
      "source": [
        "**The first five rows of test set**"
      ],
      "metadata": {
        "id": "tsqU7as1pJcc"
      }
    },
    {
      "cell_type": "code",
      "source": [
        "test_set.head(n = 5).style.background_gradient(cmap = \"Blues\")"
      ],
      "metadata": {
        "colab": {
          "base_uri": "https://localhost:8080/",
          "height": 223
        },
        "id": "Hx5gwX_npVeN",
        "outputId": "31b9e4ed-2dab-435e-d158-4064a0c16ac8"
      },
      "execution_count": 7,
      "outputs": [
        {
          "output_type": "execute_result",
          "data": {
            "text/plain": [
              "<pandas.io.formats.style.Styler at 0x7fab84e67490>"
            ],
            "text/html": [
              "<style type=\"text/css\">\n",
              "#T_4f0c0_row0_col0 {\n",
              "  background-color: #f7fbff;\n",
              "  color: #000000;\n",
              "}\n",
              "#T_4f0c0_row1_col0 {\n",
              "  background-color: #c6dbef;\n",
              "  color: #000000;\n",
              "}\n",
              "#T_4f0c0_row2_col0 {\n",
              "  background-color: #6aaed6;\n",
              "  color: #f1f1f1;\n",
              "}\n",
              "#T_4f0c0_row3_col0 {\n",
              "  background-color: #2070b4;\n",
              "  color: #f1f1f1;\n",
              "}\n",
              "#T_4f0c0_row4_col0 {\n",
              "  background-color: #08306b;\n",
              "  color: #f1f1f1;\n",
              "}\n",
              "</style>\n",
              "<table id=\"T_4f0c0_\" class=\"dataframe\">\n",
              "  <thead>\n",
              "    <tr>\n",
              "      <th class=\"blank level0\" >&nbsp;</th>\n",
              "      <th class=\"col_heading level0 col0\" >id</th>\n",
              "      <th class=\"col_heading level0 col1\" >tweet</th>\n",
              "    </tr>\n",
              "  </thead>\n",
              "  <tbody>\n",
              "    <tr>\n",
              "      <th id=\"T_4f0c0_level0_row0\" class=\"row_heading level0 row0\" >0</th>\n",
              "      <td id=\"T_4f0c0_row0_col0\" class=\"data row0 col0\" >31963</td>\n",
              "      <td id=\"T_4f0c0_row0_col1\" class=\"data row0 col1\" >#studiolife #aislife #requires #passion #dedication #willpower   to find #newmaterialsâ¦ </td>\n",
              "    </tr>\n",
              "    <tr>\n",
              "      <th id=\"T_4f0c0_level0_row1\" class=\"row_heading level0 row1\" >1</th>\n",
              "      <td id=\"T_4f0c0_row1_col0\" class=\"data row1 col0\" >31964</td>\n",
              "      <td id=\"T_4f0c0_row1_col1\" class=\"data row1 col1\" > @user #white #supremacists want everyone to see the new â  #birdsâ #movie â and hereâs why  </td>\n",
              "    </tr>\n",
              "    <tr>\n",
              "      <th id=\"T_4f0c0_level0_row2\" class=\"row_heading level0 row2\" >2</th>\n",
              "      <td id=\"T_4f0c0_row2_col0\" class=\"data row2 col0\" >31965</td>\n",
              "      <td id=\"T_4f0c0_row2_col1\" class=\"data row2 col1\" >safe ways to heal your #acne!!    #altwaystoheal #healthy   #healing!! </td>\n",
              "    </tr>\n",
              "    <tr>\n",
              "      <th id=\"T_4f0c0_level0_row3\" class=\"row_heading level0 row3\" >3</th>\n",
              "      <td id=\"T_4f0c0_row3_col0\" class=\"data row3 col0\" >31966</td>\n",
              "      <td id=\"T_4f0c0_row3_col1\" class=\"data row3 col1\" >is the hp and the cursed child book up for reservations already? if yes, where? if no, when? ððð   #harrypotter #pottermore #favorite</td>\n",
              "    </tr>\n",
              "    <tr>\n",
              "      <th id=\"T_4f0c0_level0_row4\" class=\"row_heading level0 row4\" >4</th>\n",
              "      <td id=\"T_4f0c0_row4_col0\" class=\"data row4 col0\" >31967</td>\n",
              "      <td id=\"T_4f0c0_row4_col1\" class=\"data row4 col1\" >  3rd #bihday to my amazing, hilarious #nephew eli ahmir! uncle dave loves you and missesâ¦ </td>\n",
              "    </tr>\n",
              "  </tbody>\n",
              "</table>\n"
            ]
          },
          "metadata": {},
          "execution_count": 7
        }
      ]
    },
    {
      "cell_type": "markdown",
      "source": [
        "### **Understanding the data**\n",
        "\n"
      ],
      "metadata": {
        "id": "yLEPR5LcpjvT"
      }
    },
    {
      "cell_type": "markdown",
      "source": [
        "Shape of the train and test datasets"
      ],
      "metadata": {
        "id": "U7Oc-WIGpo9q"
      }
    },
    {
      "cell_type": "code",
      "source": [
        "print(\"Train set shape: \",train_set.shape,\"Test set shape: \",test_set.shape)"
      ],
      "metadata": {
        "colab": {
          "base_uri": "https://localhost:8080/"
        },
        "id": "5R1ZvQorpsoM",
        "outputId": "113d0bfd-e347-4f14-9410-cf7c882913fe"
      },
      "execution_count": 8,
      "outputs": [
        {
          "output_type": "stream",
          "name": "stdout",
          "text": [
            "Train set shape:  (31962, 3) Test set shape:  (17197, 2)\n"
          ]
        }
      ]
    },
    {
      "cell_type": "markdown",
      "source": [
        "Displaying more information about the train set"
      ],
      "metadata": {
        "id": "oS4JWLvMqH7E"
      }
    },
    {
      "cell_type": "code",
      "source": [
        "train_set.info()"
      ],
      "metadata": {
        "colab": {
          "base_uri": "https://localhost:8080/"
        },
        "id": "d1IxuRGyqMIS",
        "outputId": "ae0b7329-e069-47a7-ce0c-24cd4d5b2f19"
      },
      "execution_count": 9,
      "outputs": [
        {
          "output_type": "stream",
          "name": "stdout",
          "text": [
            "<class 'pandas.core.frame.DataFrame'>\n",
            "RangeIndex: 31962 entries, 0 to 31961\n",
            "Data columns (total 3 columns):\n",
            " #   Column  Non-Null Count  Dtype \n",
            "---  ------  --------------  ----- \n",
            " 0   id      31962 non-null  int64 \n",
            " 1   label   31962 non-null  int64 \n",
            " 2   tweet   31962 non-null  object\n",
            "dtypes: int64(2), object(1)\n",
            "memory usage: 749.2+ KB\n"
          ]
        }
      ]
    },
    {
      "cell_type": "markdown",
      "source": [
        "Checking whether there are any duplicate values"
      ],
      "metadata": {
        "id": "61qm2C1Gqc2s"
      }
    },
    {
      "cell_type": "code",
      "source": [
        "print(\"There are {} duplicate values in the train set\".format(train_set.duplicated().sum()))"
      ],
      "metadata": {
        "colab": {
          "base_uri": "https://localhost:8080/"
        },
        "id": "oPQ9pd3qqgvT",
        "outputId": "7f4d4d48-1b33-4f2c-ac2b-b92cb2cb359e"
      },
      "execution_count": 10,
      "outputs": [
        {
          "output_type": "stream",
          "name": "stdout",
          "text": [
            "There are 0 duplicate values in the train set\n"
          ]
        }
      ]
    },
    {
      "cell_type": "markdown",
      "source": [
        "Check the distribution of classess in the label variable"
      ],
      "metadata": {
        "id": "3nJV_6bRrGRL"
      }
    },
    {
      "cell_type": "code",
      "source": [
        "train_set.groupby(\"label\").count().style.background_gradient(cmap = \"summer\")"
      ],
      "metadata": {
        "colab": {
          "base_uri": "https://localhost:8080/",
          "height": 143
        },
        "id": "7_QzVTfprN3K",
        "outputId": "0eba8618-f5c7-46f9-e4ab-ea8aa2ad8d01"
      },
      "execution_count": 11,
      "outputs": [
        {
          "output_type": "execute_result",
          "data": {
            "text/plain": [
              "<pandas.io.formats.style.Styler at 0x7fab85557970>"
            ],
            "text/html": [
              "<style type=\"text/css\">\n",
              "#T_fae5c_row0_col0, #T_fae5c_row0_col1 {\n",
              "  background-color: #ffff66;\n",
              "  color: #000000;\n",
              "}\n",
              "#T_fae5c_row1_col0, #T_fae5c_row1_col1 {\n",
              "  background-color: #008066;\n",
              "  color: #f1f1f1;\n",
              "}\n",
              "</style>\n",
              "<table id=\"T_fae5c_\" class=\"dataframe\">\n",
              "  <thead>\n",
              "    <tr>\n",
              "      <th class=\"blank level0\" >&nbsp;</th>\n",
              "      <th class=\"col_heading level0 col0\" >id</th>\n",
              "      <th class=\"col_heading level0 col1\" >tweet</th>\n",
              "    </tr>\n",
              "    <tr>\n",
              "      <th class=\"index_name level0\" >label</th>\n",
              "      <th class=\"blank col0\" >&nbsp;</th>\n",
              "      <th class=\"blank col1\" >&nbsp;</th>\n",
              "    </tr>\n",
              "  </thead>\n",
              "  <tbody>\n",
              "    <tr>\n",
              "      <th id=\"T_fae5c_level0_row0\" class=\"row_heading level0 row0\" >0</th>\n",
              "      <td id=\"T_fae5c_row0_col0\" class=\"data row0 col0\" >29720</td>\n",
              "      <td id=\"T_fae5c_row0_col1\" class=\"data row0 col1\" >29720</td>\n",
              "    </tr>\n",
              "    <tr>\n",
              "      <th id=\"T_fae5c_level0_row1\" class=\"row_heading level0 row1\" >1</th>\n",
              "      <td id=\"T_fae5c_row1_col0\" class=\"data row1 col0\" >2242</td>\n",
              "      <td id=\"T_fae5c_row1_col1\" class=\"data row1 col1\" >2242</td>\n",
              "    </tr>\n",
              "  </tbody>\n",
              "</table>\n"
            ]
          },
          "metadata": {},
          "execution_count": 11
        }
      ]
    },
    {
      "cell_type": "markdown",
      "source": [
        "## **Processing the dataset**\n",
        "\n",
        "1. Converting uppercase letters to lowercase letters in the tweet column"
      ],
      "metadata": {
        "id": "qlYtuZGZrc7K"
      }
    },
    {
      "cell_type": "code",
      "source": [
        "train_set[\"tweet\"] = train_set[\"tweet\"].apply(lambda x: \" \".join(x.lower() for x in x.split()))\n",
        "test_set[\"tweet\"] = test_set[\"tweet\"].apply(lambda x: \" \".join(x.lower() for x in x.split()))\n",
        "\n",
        "print(colored(\"\\nCONVERTED SUCCESFULLY...\"))"
      ],
      "metadata": {
        "colab": {
          "base_uri": "https://localhost:8080/"
        },
        "id": "mH7NrP-irtLn",
        "outputId": "637a7cc4-9356-4aae-f7f0-8ce7a7476fbd"
      },
      "execution_count": 12,
      "outputs": [
        {
          "output_type": "stream",
          "name": "stdout",
          "text": [
            "\n",
            "CONVERTED SUCCESFULLY...\n"
          ]
        }
      ]
    },
    {
      "cell_type": "markdown",
      "source": [
        "2. Deleting all punctuation marks in the tweet column"
      ],
      "metadata": {
        "id": "6551TptTsLEN"
      }
    },
    {
      "cell_type": "code",
      "source": [
        "train_set[\"tweet\"] = train_set[\"tweet\"].str.replace('[^\\w\\s]','')\n",
        "test_set[\"tweet\"] = test_set[\"tweet\"].str.replace('[^\\w\\s]','')\n",
        "\n",
        "print(colored(\"\\nDELETED SUCCESFULLY...\"))"
      ],
      "metadata": {
        "colab": {
          "base_uri": "https://localhost:8080/"
        },
        "id": "5bskTOO3sTYi",
        "outputId": "fe449779-08fc-4c10-e724-87699e40091a"
      },
      "execution_count": 13,
      "outputs": [
        {
          "output_type": "stream",
          "name": "stdout",
          "text": [
            "\n",
            "DELETED SUCCESFULLY...\n"
          ]
        }
      ]
    },
    {
      "cell_type": "markdown",
      "source": [
        "3. Deleting numbers from the tweet column"
      ],
      "metadata": {
        "id": "9C4vjmlGsq_Q"
      }
    },
    {
      "cell_type": "code",
      "source": [
        "train_set['tweet'] = train_set['tweet'].str.replace('\\d','')\n",
        "test_set['tweet'] = test_set['tweet'].str.replace('\\d','')\n",
        "\n",
        "print(colored(\"\\n NUMBERS DELETED SUCCESFULLY...\"))"
      ],
      "metadata": {
        "colab": {
          "base_uri": "https://localhost:8080/"
        },
        "id": "sVtgNkoWswXv",
        "outputId": "66baf1a6-526b-46f0-b714-bf92d03992f6"
      },
      "execution_count": 14,
      "outputs": [
        {
          "output_type": "stream",
          "name": "stdout",
          "text": [
            "\n",
            " NUMBERS DELETED SUCCESFULLY...\n"
          ]
        }
      ]
    },
    {
      "cell_type": "markdown",
      "source": [
        "4. Deleting stopwords from tweet column"
      ],
      "metadata": {
        "id": "z2KPTkoAs3a1"
      }
    },
    {
      "cell_type": "code",
      "source": [
        "sw = stopwords.words(\"english\")\n",
        "train_set['tweet'] = train_set['tweet'].apply(lambda x: \" \".join(x for x in x.split() if x not in sw))\n",
        "test_set['tweet'] = test_set['tweet'].apply(lambda x: \" \".join(x for x in x.split() if x not in sw))\n",
        "\n",
        "print(colored(\"\\nSTOPWORDS DELETED SUCCESFULLY...\"))"
      ],
      "metadata": {
        "colab": {
          "base_uri": "https://localhost:8080/"
        },
        "id": "0o7C-arjs-jq",
        "outputId": "e4cdb9eb-3833-4411-9969-fcd60544e2fd"
      },
      "execution_count": 15,
      "outputs": [
        {
          "output_type": "stream",
          "name": "stdout",
          "text": [
            "\n",
            "STOPWORDS DELETED SUCCESFULLY...\n"
          ]
        }
      ]
    },
    {
      "cell_type": "markdown",
      "source": [
        "5. Lemmatization. Getting roots of the words in the tweet column"
      ],
      "metadata": {
        "id": "cs5gKFpatG35"
      }
    },
    {
      "cell_type": "code",
      "source": [
        "train_set['tweet'] = train_set['tweet'].apply(lambda x: \" \".join([Word(word).lemmatize() for word in x.split()]))\n",
        "test_set['tweet'] = test_set['tweet'].apply(lambda x: \" \".join([Word(word).lemmatize() for word in x.split()])) \n",
        "\n",
        "print(colored(\"\\nDONE SUCCESFULLY...\"))"
      ],
      "metadata": {
        "colab": {
          "base_uri": "https://localhost:8080/"
        },
        "id": "ZUO4_aRMtXTM",
        "outputId": "c382f289-6a00-4979-9b1d-3da70eaebf68"
      },
      "execution_count": 16,
      "outputs": [
        {
          "output_type": "stream",
          "name": "stdout",
          "text": [
            "\n",
            "DONE SUCCESFULLY...\n"
          ]
        }
      ]
    },
    {
      "cell_type": "markdown",
      "source": [
        "6. Droping the id column"
      ],
      "metadata": {
        "id": "SHL0YQPhu_Kw"
      }
    },
    {
      "cell_type": "code",
      "source": [
        "train_set = train_set.drop(\"id\", axis = 1)\n",
        "test_set = test_set.drop(\"id\", axis = 1)\n",
        "\n",
        "print(colored(\"\\n'ID' COLUMNS DROPPED SUCCESFULLY...\"))"
      ],
      "metadata": {
        "colab": {
          "base_uri": "https://localhost:8080/"
        },
        "id": "vgLrknppvC38",
        "outputId": "67e8d288-7c27-4d76-bc78-88e8aa48ab4a"
      },
      "execution_count": 17,
      "outputs": [
        {
          "output_type": "stream",
          "name": "stdout",
          "text": [
            "\n",
            "'ID' COLUMNS DROPPED SUCCESFULLY...\n"
          ]
        }
      ]
    },
    {
      "cell_type": "markdown",
      "source": [
        "### **Looking at the train & test set after cleaning**"
      ],
      "metadata": {
        "id": "mdSDDR-pvR9B"
      }
    },
    {
      "cell_type": "code",
      "source": [
        "train_set.head(n = 10)"
      ],
      "metadata": {
        "colab": {
          "base_uri": "https://localhost:8080/",
          "height": 363
        },
        "id": "wAtoDtOovXWy",
        "outputId": "a8f025cd-46b4-42db-f707-3783949ea0d6"
      },
      "execution_count": 18,
      "outputs": [
        {
          "output_type": "execute_result",
          "data": {
            "text/plain": [
              "   label                                              tweet\n",
              "0      0  user father dysfunctional selfish drag kid dys...\n",
              "1      0  user user thanks lyft credit cant use cause do...\n",
              "2      0                                     bihday majesty\n",
              "3      0              model love u take u time urð ðððð ððð\n",
              "4      0                      factsguide society motivation\n",
              "5      0  huge fan fare big talking leave chaos pay disp...\n",
              "6      0  user camping tomorrow user user user user user...\n",
              "7      0  next school year year examsð cant think ð scho...\n",
              "8      0  love land allin cavs champion cleveland clevel...\n",
              "9      0                            user user welcome im gr"
            ],
            "text/html": [
              "\n",
              "  <div id=\"df-15e6da0b-5f16-4b19-a595-52c93cd79fc9\">\n",
              "    <div class=\"colab-df-container\">\n",
              "      <div>\n",
              "<style scoped>\n",
              "    .dataframe tbody tr th:only-of-type {\n",
              "        vertical-align: middle;\n",
              "    }\n",
              "\n",
              "    .dataframe tbody tr th {\n",
              "        vertical-align: top;\n",
              "    }\n",
              "\n",
              "    .dataframe thead th {\n",
              "        text-align: right;\n",
              "    }\n",
              "</style>\n",
              "<table border=\"1\" class=\"dataframe\">\n",
              "  <thead>\n",
              "    <tr style=\"text-align: right;\">\n",
              "      <th></th>\n",
              "      <th>label</th>\n",
              "      <th>tweet</th>\n",
              "    </tr>\n",
              "  </thead>\n",
              "  <tbody>\n",
              "    <tr>\n",
              "      <th>0</th>\n",
              "      <td>0</td>\n",
              "      <td>user father dysfunctional selfish drag kid dys...</td>\n",
              "    </tr>\n",
              "    <tr>\n",
              "      <th>1</th>\n",
              "      <td>0</td>\n",
              "      <td>user user thanks lyft credit cant use cause do...</td>\n",
              "    </tr>\n",
              "    <tr>\n",
              "      <th>2</th>\n",
              "      <td>0</td>\n",
              "      <td>bihday majesty</td>\n",
              "    </tr>\n",
              "    <tr>\n",
              "      <th>3</th>\n",
              "      <td>0</td>\n",
              "      <td>model love u take u time urð ðððð ððð</td>\n",
              "    </tr>\n",
              "    <tr>\n",
              "      <th>4</th>\n",
              "      <td>0</td>\n",
              "      <td>factsguide society motivation</td>\n",
              "    </tr>\n",
              "    <tr>\n",
              "      <th>5</th>\n",
              "      <td>0</td>\n",
              "      <td>huge fan fare big talking leave chaos pay disp...</td>\n",
              "    </tr>\n",
              "    <tr>\n",
              "      <th>6</th>\n",
              "      <td>0</td>\n",
              "      <td>user camping tomorrow user user user user user...</td>\n",
              "    </tr>\n",
              "    <tr>\n",
              "      <th>7</th>\n",
              "      <td>0</td>\n",
              "      <td>next school year year examsð cant think ð scho...</td>\n",
              "    </tr>\n",
              "    <tr>\n",
              "      <th>8</th>\n",
              "      <td>0</td>\n",
              "      <td>love land allin cavs champion cleveland clevel...</td>\n",
              "    </tr>\n",
              "    <tr>\n",
              "      <th>9</th>\n",
              "      <td>0</td>\n",
              "      <td>user user welcome im gr</td>\n",
              "    </tr>\n",
              "  </tbody>\n",
              "</table>\n",
              "</div>\n",
              "      <button class=\"colab-df-convert\" onclick=\"convertToInteractive('df-15e6da0b-5f16-4b19-a595-52c93cd79fc9')\"\n",
              "              title=\"Convert this dataframe to an interactive table.\"\n",
              "              style=\"display:none;\">\n",
              "        \n",
              "  <svg xmlns=\"http://www.w3.org/2000/svg\" height=\"24px\"viewBox=\"0 0 24 24\"\n",
              "       width=\"24px\">\n",
              "    <path d=\"M0 0h24v24H0V0z\" fill=\"none\"/>\n",
              "    <path d=\"M18.56 5.44l.94 2.06.94-2.06 2.06-.94-2.06-.94-.94-2.06-.94 2.06-2.06.94zm-11 1L8.5 8.5l.94-2.06 2.06-.94-2.06-.94L8.5 2.5l-.94 2.06-2.06.94zm10 10l.94 2.06.94-2.06 2.06-.94-2.06-.94-.94-2.06-.94 2.06-2.06.94z\"/><path d=\"M17.41 7.96l-1.37-1.37c-.4-.4-.92-.59-1.43-.59-.52 0-1.04.2-1.43.59L10.3 9.45l-7.72 7.72c-.78.78-.78 2.05 0 2.83L4 21.41c.39.39.9.59 1.41.59.51 0 1.02-.2 1.41-.59l7.78-7.78 2.81-2.81c.8-.78.8-2.07 0-2.86zM5.41 20L4 18.59l7.72-7.72 1.47 1.35L5.41 20z\"/>\n",
              "  </svg>\n",
              "      </button>\n",
              "      \n",
              "  <style>\n",
              "    .colab-df-container {\n",
              "      display:flex;\n",
              "      flex-wrap:wrap;\n",
              "      gap: 12px;\n",
              "    }\n",
              "\n",
              "    .colab-df-convert {\n",
              "      background-color: #E8F0FE;\n",
              "      border: none;\n",
              "      border-radius: 50%;\n",
              "      cursor: pointer;\n",
              "      display: none;\n",
              "      fill: #1967D2;\n",
              "      height: 32px;\n",
              "      padding: 0 0 0 0;\n",
              "      width: 32px;\n",
              "    }\n",
              "\n",
              "    .colab-df-convert:hover {\n",
              "      background-color: #E2EBFA;\n",
              "      box-shadow: 0px 1px 2px rgba(60, 64, 67, 0.3), 0px 1px 3px 1px rgba(60, 64, 67, 0.15);\n",
              "      fill: #174EA6;\n",
              "    }\n",
              "\n",
              "    [theme=dark] .colab-df-convert {\n",
              "      background-color: #3B4455;\n",
              "      fill: #D2E3FC;\n",
              "    }\n",
              "\n",
              "    [theme=dark] .colab-df-convert:hover {\n",
              "      background-color: #434B5C;\n",
              "      box-shadow: 0px 1px 3px 1px rgba(0, 0, 0, 0.15);\n",
              "      filter: drop-shadow(0px 1px 2px rgba(0, 0, 0, 0.3));\n",
              "      fill: #FFFFFF;\n",
              "    }\n",
              "  </style>\n",
              "\n",
              "      <script>\n",
              "        const buttonEl =\n",
              "          document.querySelector('#df-15e6da0b-5f16-4b19-a595-52c93cd79fc9 button.colab-df-convert');\n",
              "        buttonEl.style.display =\n",
              "          google.colab.kernel.accessAllowed ? 'block' : 'none';\n",
              "\n",
              "        async function convertToInteractive(key) {\n",
              "          const element = document.querySelector('#df-15e6da0b-5f16-4b19-a595-52c93cd79fc9');\n",
              "          const dataTable =\n",
              "            await google.colab.kernel.invokeFunction('convertToInteractive',\n",
              "                                                     [key], {});\n",
              "          if (!dataTable) return;\n",
              "\n",
              "          const docLinkHtml = 'Like what you see? Visit the ' +\n",
              "            '<a target=\"_blank\" href=https://colab.research.google.com/notebooks/data_table.ipynb>data table notebook</a>'\n",
              "            + ' to learn more about interactive tables.';\n",
              "          element.innerHTML = '';\n",
              "          dataTable['output_type'] = 'display_data';\n",
              "          await google.colab.output.renderOutput(dataTable, element);\n",
              "          const docLink = document.createElement('div');\n",
              "          docLink.innerHTML = docLinkHtml;\n",
              "          element.appendChild(docLink);\n",
              "        }\n",
              "      </script>\n",
              "    </div>\n",
              "  </div>\n",
              "  "
            ]
          },
          "metadata": {},
          "execution_count": 18
        }
      ]
    },
    {
      "cell_type": "code",
      "source": [
        "test_set.head(n = 10)"
      ],
      "metadata": {
        "colab": {
          "base_uri": "https://localhost:8080/",
          "height": 363
        },
        "id": "HjrVjnUuvgsq",
        "outputId": "e69164f3-70bf-40c7-92d4-6a8e53f923df"
      },
      "execution_count": 19,
      "outputs": [
        {
          "output_type": "execute_result",
          "data": {
            "text/plain": [
              "                                               tweet\n",
              "0  studiolife aislife requires passion dedication...\n",
              "1  user white supremacist want everyone see new â...\n",
              "2   safe way heal acne altwaystoheal healthy healing\n",
              "3  hp cursed child book reservation already yes ð...\n",
              "4  rd bihday amazing hilarious nephew eli ahmir u...\n",
              "5                                     choose momtips\n",
              "6  something inside dy ððâ eye ness smokeyeyes ti...\n",
              "7  finishedtattooinkedinkloveitâï âïâïâïâï thanks...\n",
              "8  user user user never understand dad left young...\n",
              "9  delicious food lovelife capetown mannaepicure ..."
            ],
            "text/html": [
              "\n",
              "  <div id=\"df-92d5635c-22fa-4ca1-943b-4d72ed67eeea\">\n",
              "    <div class=\"colab-df-container\">\n",
              "      <div>\n",
              "<style scoped>\n",
              "    .dataframe tbody tr th:only-of-type {\n",
              "        vertical-align: middle;\n",
              "    }\n",
              "\n",
              "    .dataframe tbody tr th {\n",
              "        vertical-align: top;\n",
              "    }\n",
              "\n",
              "    .dataframe thead th {\n",
              "        text-align: right;\n",
              "    }\n",
              "</style>\n",
              "<table border=\"1\" class=\"dataframe\">\n",
              "  <thead>\n",
              "    <tr style=\"text-align: right;\">\n",
              "      <th></th>\n",
              "      <th>tweet</th>\n",
              "    </tr>\n",
              "  </thead>\n",
              "  <tbody>\n",
              "    <tr>\n",
              "      <th>0</th>\n",
              "      <td>studiolife aislife requires passion dedication...</td>\n",
              "    </tr>\n",
              "    <tr>\n",
              "      <th>1</th>\n",
              "      <td>user white supremacist want everyone see new â...</td>\n",
              "    </tr>\n",
              "    <tr>\n",
              "      <th>2</th>\n",
              "      <td>safe way heal acne altwaystoheal healthy healing</td>\n",
              "    </tr>\n",
              "    <tr>\n",
              "      <th>3</th>\n",
              "      <td>hp cursed child book reservation already yes ð...</td>\n",
              "    </tr>\n",
              "    <tr>\n",
              "      <th>4</th>\n",
              "      <td>rd bihday amazing hilarious nephew eli ahmir u...</td>\n",
              "    </tr>\n",
              "    <tr>\n",
              "      <th>5</th>\n",
              "      <td>choose momtips</td>\n",
              "    </tr>\n",
              "    <tr>\n",
              "      <th>6</th>\n",
              "      <td>something inside dy ððâ eye ness smokeyeyes ti...</td>\n",
              "    </tr>\n",
              "    <tr>\n",
              "      <th>7</th>\n",
              "      <td>finishedtattooinkedinkloveitâï âïâïâïâï thanks...</td>\n",
              "    </tr>\n",
              "    <tr>\n",
              "      <th>8</th>\n",
              "      <td>user user user never understand dad left young...</td>\n",
              "    </tr>\n",
              "    <tr>\n",
              "      <th>9</th>\n",
              "      <td>delicious food lovelife capetown mannaepicure ...</td>\n",
              "    </tr>\n",
              "  </tbody>\n",
              "</table>\n",
              "</div>\n",
              "      <button class=\"colab-df-convert\" onclick=\"convertToInteractive('df-92d5635c-22fa-4ca1-943b-4d72ed67eeea')\"\n",
              "              title=\"Convert this dataframe to an interactive table.\"\n",
              "              style=\"display:none;\">\n",
              "        \n",
              "  <svg xmlns=\"http://www.w3.org/2000/svg\" height=\"24px\"viewBox=\"0 0 24 24\"\n",
              "       width=\"24px\">\n",
              "    <path d=\"M0 0h24v24H0V0z\" fill=\"none\"/>\n",
              "    <path d=\"M18.56 5.44l.94 2.06.94-2.06 2.06-.94-2.06-.94-.94-2.06-.94 2.06-2.06.94zm-11 1L8.5 8.5l.94-2.06 2.06-.94-2.06-.94L8.5 2.5l-.94 2.06-2.06.94zm10 10l.94 2.06.94-2.06 2.06-.94-2.06-.94-.94-2.06-.94 2.06-2.06.94z\"/><path d=\"M17.41 7.96l-1.37-1.37c-.4-.4-.92-.59-1.43-.59-.52 0-1.04.2-1.43.59L10.3 9.45l-7.72 7.72c-.78.78-.78 2.05 0 2.83L4 21.41c.39.39.9.59 1.41.59.51 0 1.02-.2 1.41-.59l7.78-7.78 2.81-2.81c.8-.78.8-2.07 0-2.86zM5.41 20L4 18.59l7.72-7.72 1.47 1.35L5.41 20z\"/>\n",
              "  </svg>\n",
              "      </button>\n",
              "      \n",
              "  <style>\n",
              "    .colab-df-container {\n",
              "      display:flex;\n",
              "      flex-wrap:wrap;\n",
              "      gap: 12px;\n",
              "    }\n",
              "\n",
              "    .colab-df-convert {\n",
              "      background-color: #E8F0FE;\n",
              "      border: none;\n",
              "      border-radius: 50%;\n",
              "      cursor: pointer;\n",
              "      display: none;\n",
              "      fill: #1967D2;\n",
              "      height: 32px;\n",
              "      padding: 0 0 0 0;\n",
              "      width: 32px;\n",
              "    }\n",
              "\n",
              "    .colab-df-convert:hover {\n",
              "      background-color: #E2EBFA;\n",
              "      box-shadow: 0px 1px 2px rgba(60, 64, 67, 0.3), 0px 1px 3px 1px rgba(60, 64, 67, 0.15);\n",
              "      fill: #174EA6;\n",
              "    }\n",
              "\n",
              "    [theme=dark] .colab-df-convert {\n",
              "      background-color: #3B4455;\n",
              "      fill: #D2E3FC;\n",
              "    }\n",
              "\n",
              "    [theme=dark] .colab-df-convert:hover {\n",
              "      background-color: #434B5C;\n",
              "      box-shadow: 0px 1px 3px 1px rgba(0, 0, 0, 0.15);\n",
              "      filter: drop-shadow(0px 1px 2px rgba(0, 0, 0, 0.3));\n",
              "      fill: #FFFFFF;\n",
              "    }\n",
              "  </style>\n",
              "\n",
              "      <script>\n",
              "        const buttonEl =\n",
              "          document.querySelector('#df-92d5635c-22fa-4ca1-943b-4d72ed67eeea button.colab-df-convert');\n",
              "        buttonEl.style.display =\n",
              "          google.colab.kernel.accessAllowed ? 'block' : 'none';\n",
              "\n",
              "        async function convertToInteractive(key) {\n",
              "          const element = document.querySelector('#df-92d5635c-22fa-4ca1-943b-4d72ed67eeea');\n",
              "          const dataTable =\n",
              "            await google.colab.kernel.invokeFunction('convertToInteractive',\n",
              "                                                     [key], {});\n",
              "          if (!dataTable) return;\n",
              "\n",
              "          const docLinkHtml = 'Like what you see? Visit the ' +\n",
              "            '<a target=\"_blank\" href=https://colab.research.google.com/notebooks/data_table.ipynb>data table notebook</a>'\n",
              "            + ' to learn more about interactive tables.';\n",
              "          element.innerHTML = '';\n",
              "          dataTable['output_type'] = 'display_data';\n",
              "          await google.colab.output.renderOutput(dataTable, element);\n",
              "          const docLink = document.createElement('div');\n",
              "          docLink.innerHTML = docLinkHtml;\n",
              "          element.appendChild(docLink);\n",
              "        }\n",
              "      </script>\n",
              "    </div>\n",
              "  </div>\n",
              "  "
            ]
          },
          "metadata": {},
          "execution_count": 19
        }
      ]
    },
    {
      "cell_type": "markdown",
      "source": [
        "### **Dividing the datasets**"
      ],
      "metadata": {
        "id": "d3LhMa2Tvnkq"
      }
    },
    {
      "cell_type": "code",
      "source": [
        "x = train_set[\"tweet\"]\n",
        "y = train_set[\"label\"]\n",
        "\n",
        "train_x, test_x, train_y, test_y = model_selection.train_test_split(x, y, test_size = 0.20, shuffle = True, random_state = 11)\n",
        "\n",
        "print(colored(\"\\nDIVIDED SUCCESFULLY...\"))"
      ],
      "metadata": {
        "colab": {
          "base_uri": "https://localhost:8080/"
        },
        "id": "105bDkMLvrqm",
        "outputId": "51e29e31-4e5a-4746-cdf5-b03ab9b258e0"
      },
      "execution_count": 20,
      "outputs": [
        {
          "output_type": "stream",
          "name": "stdout",
          "text": [
            "\n",
            "DIVIDED SUCCESFULLY...\n"
          ]
        }
      ]
    },
    {
      "cell_type": "markdown",
      "source": [
        "## **Data Vectorization**\n",
        "\n",
        "Word Embeddings or Word vectorization is a methodology in NLP to map words or phrases from vocabulary to a corresponding vector of real numbers which used to find word predictions, word similarities/semantics.\n",
        "\n",
        "For more info, read[here](https://towardsdatascience.com/understanding-nlp-word-embeddings-text-vectorization-1a23744f7223)"
      ],
      "metadata": {
        "id": "NPC-Tfrbvx7C"
      }
    },
    {
      "cell_type": "markdown",
      "source": [
        "1. **\"Count Vectors\" method**"
      ],
      "metadata": {
        "id": "8woaJxty6T8M"
      }
    },
    {
      "cell_type": "code",
      "source": [
        "tf_idf_word_vectorizer = TfidfVectorizer()\n",
        "tf_idf_word_vectorizer.fit(train_x)\n",
        "\n",
        "x_train_tf_idf_word = tf_idf_word_vectorizer.transform(train_x)\n",
        "x_test_tf_idf_word = tf_idf_word_vectorizer.transform(test_x)\n",
        "\n",
        "x_train_tf_idf_word.toarray()"
      ],
      "metadata": {
        "colab": {
          "base_uri": "https://localhost:8080/"
        },
        "id": "tacTpujX6arf",
        "outputId": "1054a61f-1338-4b3b-8cf2-342cc046a1f2"
      },
      "execution_count": 21,
      "outputs": [
        {
          "output_type": "execute_result",
          "data": {
            "text/plain": [
              "array([[0., 0., 0., ..., 0., 0., 0.],\n",
              "       [0., 0., 0., ..., 0., 0., 0.],\n",
              "       [0., 0., 0., ..., 0., 0., 0.],\n",
              "       ...,\n",
              "       [0., 0., 0., ..., 0., 0., 0.],\n",
              "       [0., 0., 0., ..., 0., 0., 0.],\n",
              "       [0., 0., 0., ..., 0., 0., 0.]])"
            ]
          },
          "metadata": {},
          "execution_count": 21
        }
      ]
    },
    {
      "cell_type": "markdown",
      "source": [
        "2. **\"TF-IDF\" method**"
      ],
      "metadata": {
        "id": "xz3CKCe56z2a"
      }
    },
    {
      "cell_type": "code",
      "source": [
        "tf_idf_word_vectorizer = TfidfVectorizer()\n",
        "tf_idf_word_vectorizer.fit(train_x)\n",
        "\n",
        "x_train_tf_idf_word = tf_idf_word_vectorizer.transform(train_x)\n",
        "x_test_tf_idf_word = tf_idf_word_vectorizer.transform(test_x)\n",
        "\n",
        "x_train_tf_idf_word.toarray()"
      ],
      "metadata": {
        "id": "LOWj-SJ162H4"
      },
      "execution_count": null,
      "outputs": []
    }
  ]
}